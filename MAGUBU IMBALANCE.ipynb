{
 "cells": [
  {
   "cell_type": "markdown",
   "metadata": {},
   "source": [
    "# DATA IMBALANCE"
   ]
  },
  {
   "cell_type": "markdown",
   "metadata": {},
   "source": [
    "## DATA IMBALANCE \n",
    "is the occurance of dataset with unequal distribution in its classess where as there is no 50/50 or 60/40 balancing state\n",
    "\n",
    "## why data do we balance data\n",
    "we prefer balancing data in order to minimize the fractuation of informations simply the computer tends to look up the majority\n",
    "data rather than minority data.\n",
    "\n",
    "## what data do we balance\n",
    "The data to be balanced is when the target data is unequal in the class.\n",
    "\n",
    "## methods used to balance data\n",
    "methods used to balance data includes the following\n",
    "\n",
    "MORE DATA COLLECTION\n",
    "\n",
    "CHANGING PERFORMANCE METRICS\n",
    "\n",
    "RESAMPLING\n",
    "\n",
    "OVERSAMPLING AND UNDERSAMPLING\n",
    "\n",
    "PENALIZED MODELS\n",
    "\n",
    "\n"
   ]
  },
  {
   "cell_type": "markdown",
   "metadata": {},
   "source": [
    "#IMPORT LIBRARIES"
   ]
  },
  {
   "cell_type": "code",
   "execution_count": 1,
   "metadata": {},
   "outputs": [],
   "source": [
    "import numpy as np\n",
    "import pandas as pd\n",
    "import matplotlib\n",
    "import matplotlib.pyplot as plt\n",
    "import seaborn as sns\n",
    "%matplotlib inline"
   ]
  },
  {
   "cell_type": "code",
   "execution_count": 2,
   "metadata": {},
   "outputs": [
    {
     "data": {
      "text/html": [
       "<div>\n",
       "<style scoped>\n",
       "    .dataframe tbody tr th:only-of-type {\n",
       "        vertical-align: middle;\n",
       "    }\n",
       "\n",
       "    .dataframe tbody tr th {\n",
       "        vertical-align: top;\n",
       "    }\n",
       "\n",
       "    .dataframe thead th {\n",
       "        text-align: right;\n",
       "    }\n",
       "</style>\n",
       "<table border=\"1\" class=\"dataframe\">\n",
       "  <thead>\n",
       "    <tr style=\"text-align: right;\">\n",
       "      <th></th>\n",
       "      <th>continue_drop</th>\n",
       "      <th>student_id</th>\n",
       "      <th>gender</th>\n",
       "      <th>caste</th>\n",
       "      <th>mathematics_marks</th>\n",
       "      <th>english_marks</th>\n",
       "      <th>science_marks</th>\n",
       "      <th>science_teacher</th>\n",
       "      <th>languages_teacher</th>\n",
       "      <th>guardian</th>\n",
       "      <th>internet</th>\n",
       "      <th>school_id</th>\n",
       "      <th>total_students</th>\n",
       "      <th>total_toilets</th>\n",
       "      <th>establishment_year</th>\n",
       "    </tr>\n",
       "  </thead>\n",
       "  <tbody>\n",
       "    <tr>\n",
       "      <th>0</th>\n",
       "      <td>continue</td>\n",
       "      <td>s01746</td>\n",
       "      <td>M</td>\n",
       "      <td>BC</td>\n",
       "      <td>0.666</td>\n",
       "      <td>0.468</td>\n",
       "      <td>0.666</td>\n",
       "      <td>7</td>\n",
       "      <td>6</td>\n",
       "      <td>other</td>\n",
       "      <td>True</td>\n",
       "      <td>305</td>\n",
       "      <td>354</td>\n",
       "      <td>86.0</td>\n",
       "      <td>1986.0</td>\n",
       "    </tr>\n",
       "    <tr>\n",
       "      <th>1</th>\n",
       "      <td>continue</td>\n",
       "      <td>s16986</td>\n",
       "      <td>M</td>\n",
       "      <td>BC</td>\n",
       "      <td>0.172</td>\n",
       "      <td>0.420</td>\n",
       "      <td>0.172</td>\n",
       "      <td>8</td>\n",
       "      <td>10</td>\n",
       "      <td>mother</td>\n",
       "      <td>False</td>\n",
       "      <td>331</td>\n",
       "      <td>516</td>\n",
       "      <td>15.0</td>\n",
       "      <td>1996.0</td>\n",
       "    </tr>\n",
       "    <tr>\n",
       "      <th>2</th>\n",
       "      <td>continue</td>\n",
       "      <td>s00147</td>\n",
       "      <td>F</td>\n",
       "      <td>BC</td>\n",
       "      <td>0.212</td>\n",
       "      <td>0.601</td>\n",
       "      <td>0.212</td>\n",
       "      <td>1</td>\n",
       "      <td>4</td>\n",
       "      <td>mother</td>\n",
       "      <td>False</td>\n",
       "      <td>311</td>\n",
       "      <td>209</td>\n",
       "      <td>14.0</td>\n",
       "      <td>1976.0</td>\n",
       "    </tr>\n",
       "    <tr>\n",
       "      <th>3</th>\n",
       "      <td>continue</td>\n",
       "      <td>s08104</td>\n",
       "      <td>F</td>\n",
       "      <td>ST</td>\n",
       "      <td>0.434</td>\n",
       "      <td>0.611</td>\n",
       "      <td>0.434</td>\n",
       "      <td>2</td>\n",
       "      <td>5</td>\n",
       "      <td>father</td>\n",
       "      <td>True</td>\n",
       "      <td>364</td>\n",
       "      <td>147</td>\n",
       "      <td>28.0</td>\n",
       "      <td>1911.0</td>\n",
       "    </tr>\n",
       "    <tr>\n",
       "      <th>4</th>\n",
       "      <td>continue</td>\n",
       "      <td>s11132</td>\n",
       "      <td>F</td>\n",
       "      <td>SC</td>\n",
       "      <td>0.283</td>\n",
       "      <td>0.478</td>\n",
       "      <td>0.283</td>\n",
       "      <td>1</td>\n",
       "      <td>10</td>\n",
       "      <td>mother</td>\n",
       "      <td>True</td>\n",
       "      <td>394</td>\n",
       "      <td>122</td>\n",
       "      <td>15.0</td>\n",
       "      <td>1889.0</td>\n",
       "    </tr>\n",
       "  </tbody>\n",
       "</table>\n",
       "</div>"
      ],
      "text/plain": [
       "  continue_drop student_id gender caste  mathematics_marks  english_marks  \\\n",
       "0      continue     s01746      M    BC              0.666          0.468   \n",
       "1      continue     s16986      M    BC              0.172          0.420   \n",
       "2      continue     s00147      F    BC              0.212          0.601   \n",
       "3      continue     s08104      F    ST              0.434          0.611   \n",
       "4      continue     s11132      F    SC              0.283          0.478   \n",
       "\n",
       "   science_marks  science_teacher  languages_teacher guardian  internet  \\\n",
       "0          0.666                7                  6    other      True   \n",
       "1          0.172                8                 10   mother     False   \n",
       "2          0.212                1                  4   mother     False   \n",
       "3          0.434                2                  5   father      True   \n",
       "4          0.283                1                 10   mother      True   \n",
       "\n",
       "   school_id  total_students  total_toilets  establishment_year  \n",
       "0        305             354           86.0              1986.0  \n",
       "1        331             516           15.0              1996.0  \n",
       "2        311             209           14.0              1976.0  \n",
       "3        364             147           28.0              1911.0  \n",
       "4        394             122           15.0              1889.0  "
      ]
     },
     "execution_count": 2,
     "metadata": {},
     "output_type": "execute_result"
    }
   ],
   "source": [
    "data=pd.read_csv(\"train_data_week_1_challenge.csv\")\n",
    "data.head()"
   ]
  },
  {
   "cell_type": "code",
   "execution_count": 3,
   "metadata": {},
   "outputs": [
    {
     "data": {
      "text/plain": [
       "continue    16384\n",
       "drop          806\n",
       "Name: continue_drop, dtype: int64"
      ]
     },
     "execution_count": 3,
     "metadata": {},
     "output_type": "execute_result"
    }
   ],
   "source": [
    "data.continue_drop.value_counts()"
   ]
  },
  {
   "cell_type": "code",
   "execution_count": 4,
   "metadata": {},
   "outputs": [
    {
     "data": {
      "text/plain": [
       "<matplotlib.axes._subplots.AxesSubplot at 0x2535aa8b1d0>"
      ]
     },
     "execution_count": 4,
     "metadata": {},
     "output_type": "execute_result"
    },
    {
     "data": {
      "image/png": "[encoded data removed]",
      "text/plain": [
       "<Figure size 1296x1296 with 2 Axes>"
      ]
     },
     "metadata": {
      "needs_background": "light"
     },
     "output_type": "display_data"
    }
   ],
   "source": [
    "#visualization\n",
    "# correlation matrix\n",
    "f,ax = plt.subplots(figsize=(18, 18))\n",
    "sns.heatmap(data.corr(), annot=True, linewidths=.5, fmt= '.1f',ax=ax)"
   ]
  },
  {
   "cell_type": "code",
   "execution_count": 5,
   "metadata": {},
   "outputs": [
    {
     "data": {
      "text/html": [
       "<div>\n",
       "<style scoped>\n",
       "    .dataframe tbody tr th:only-of-type {\n",
       "        vertical-align: middle;\n",
       "    }\n",
       "\n",
       "    .dataframe tbody tr th {\n",
       "        vertical-align: top;\n",
       "    }\n",
       "\n",
       "    .dataframe thead th {\n",
       "        text-align: right;\n",
       "    }\n",
       "</style>\n",
       "<table border=\"1\" class=\"dataframe\">\n",
       "  <thead>\n",
       "    <tr style=\"text-align: right;\">\n",
       "      <th></th>\n",
       "      <th>continue_drop</th>\n",
       "      <th>student_id</th>\n",
       "      <th>mathematics_marks</th>\n",
       "      <th>english_marks</th>\n",
       "      <th>science_marks</th>\n",
       "      <th>science_teacher</th>\n",
       "      <th>languages_teacher</th>\n",
       "      <th>school_id</th>\n",
       "      <th>total_students</th>\n",
       "      <th>total_toilets</th>\n",
       "      <th>...</th>\n",
       "      <th>caste_BC</th>\n",
       "      <th>caste_OC</th>\n",
       "      <th>caste_SC</th>\n",
       "      <th>caste_ST</th>\n",
       "      <th>guardian_father</th>\n",
       "      <th>guardian_mixed</th>\n",
       "      <th>guardian_mother</th>\n",
       "      <th>guardian_other</th>\n",
       "      <th>internet_False</th>\n",
       "      <th>internet_True</th>\n",
       "    </tr>\n",
       "  </thead>\n",
       "  <tbody>\n",
       "    <tr>\n",
       "      <th>0</th>\n",
       "      <td>continue</td>\n",
       "      <td>s01746</td>\n",
       "      <td>0.666</td>\n",
       "      <td>0.468</td>\n",
       "      <td>0.666</td>\n",
       "      <td>7</td>\n",
       "      <td>6</td>\n",
       "      <td>305</td>\n",
       "      <td>354</td>\n",
       "      <td>86.0</td>\n",
       "      <td>...</td>\n",
       "      <td>1</td>\n",
       "      <td>0</td>\n",
       "      <td>0</td>\n",
       "      <td>0</td>\n",
       "      <td>0</td>\n",
       "      <td>0</td>\n",
       "      <td>0</td>\n",
       "      <td>1</td>\n",
       "      <td>0</td>\n",
       "      <td>1</td>\n",
       "    </tr>\n",
       "    <tr>\n",
       "      <th>1</th>\n",
       "      <td>continue</td>\n",
       "      <td>s16986</td>\n",
       "      <td>0.172</td>\n",
       "      <td>0.420</td>\n",
       "      <td>0.172</td>\n",
       "      <td>8</td>\n",
       "      <td>10</td>\n",
       "      <td>331</td>\n",
       "      <td>516</td>\n",
       "      <td>15.0</td>\n",
       "      <td>...</td>\n",
       "      <td>1</td>\n",
       "      <td>0</td>\n",
       "      <td>0</td>\n",
       "      <td>0</td>\n",
       "      <td>0</td>\n",
       "      <td>0</td>\n",
       "      <td>1</td>\n",
       "      <td>0</td>\n",
       "      <td>1</td>\n",
       "      <td>0</td>\n",
       "    </tr>\n",
       "    <tr>\n",
       "      <th>2</th>\n",
       "      <td>continue</td>\n",
       "      <td>s00147</td>\n",
       "      <td>0.212</td>\n",
       "      <td>0.601</td>\n",
       "      <td>0.212</td>\n",
       "      <td>1</td>\n",
       "      <td>4</td>\n",
       "      <td>311</td>\n",
       "      <td>209</td>\n",
       "      <td>14.0</td>\n",
       "      <td>...</td>\n",
       "      <td>1</td>\n",
       "      <td>0</td>\n",
       "      <td>0</td>\n",
       "      <td>0</td>\n",
       "      <td>0</td>\n",
       "      <td>0</td>\n",
       "      <td>1</td>\n",
       "      <td>0</td>\n",
       "      <td>1</td>\n",
       "      <td>0</td>\n",
       "    </tr>\n",
       "    <tr>\n",
       "      <th>3</th>\n",
       "      <td>continue</td>\n",
       "      <td>s08104</td>\n",
       "      <td>0.434</td>\n",
       "      <td>0.611</td>\n",
       "      <td>0.434</td>\n",
       "      <td>2</td>\n",
       "      <td>5</td>\n",
       "      <td>364</td>\n",
       "      <td>147</td>\n",
       "      <td>28.0</td>\n",
       "      <td>...</td>\n",
       "      <td>0</td>\n",
       "      <td>0</td>\n",
       "      <td>0</td>\n",
       "      <td>1</td>\n",
       "      <td>1</td>\n",
       "      <td>0</td>\n",
       "      <td>0</td>\n",
       "      <td>0</td>\n",
       "      <td>0</td>\n",
       "      <td>1</td>\n",
       "    </tr>\n",
       "    <tr>\n",
       "      <th>4</th>\n",
       "      <td>continue</td>\n",
       "      <td>s11132</td>\n",
       "      <td>0.283</td>\n",
       "      <td>0.478</td>\n",
       "      <td>0.283</td>\n",
       "      <td>1</td>\n",
       "      <td>10</td>\n",
       "      <td>394</td>\n",
       "      <td>122</td>\n",
       "      <td>15.0</td>\n",
       "      <td>...</td>\n",
       "      <td>0</td>\n",
       "      <td>0</td>\n",
       "      <td>1</td>\n",
       "      <td>0</td>\n",
       "      <td>0</td>\n",
       "      <td>0</td>\n",
       "      <td>1</td>\n",
       "      <td>0</td>\n",
       "      <td>0</td>\n",
       "      <td>1</td>\n",
       "    </tr>\n",
       "  </tbody>\n",
       "</table>\n",
       "<p>5 rows × 23 columns</p>\n",
       "</div>"
      ],
      "text/plain": [
       "  continue_drop student_id  mathematics_marks  english_marks  science_marks  \\\n",
       "0      continue     s01746              0.666          0.468          0.666   \n",
       "1      continue     s16986              0.172          0.420          0.172   \n",
       "2      continue     s00147              0.212          0.601          0.212   \n",
       "3      continue     s08104              0.434          0.611          0.434   \n",
       "4      continue     s11132              0.283          0.478          0.283   \n",
       "\n",
       "   science_teacher  languages_teacher  school_id  total_students  \\\n",
       "0                7                  6        305             354   \n",
       "1                8                 10        331             516   \n",
       "2                1                  4        311             209   \n",
       "3                2                  5        364             147   \n",
       "4                1                 10        394             122   \n",
       "\n",
       "   total_toilets  ...  caste_BC  caste_OC  caste_SC  caste_ST  \\\n",
       "0           86.0  ...         1         0         0         0   \n",
       "1           15.0  ...         1         0         0         0   \n",
       "2           14.0  ...         1         0         0         0   \n",
       "3           28.0  ...         0         0         0         1   \n",
       "4           15.0  ...         0         0         1         0   \n",
       "\n",
       "   guardian_father  guardian_mixed  guardian_mother  guardian_other  \\\n",
       "0                0               0                0               1   \n",
       "1                0               0                1               0   \n",
       "2                0               0                1               0   \n",
       "3                1               0                0               0   \n",
       "4                0               0                1               0   \n",
       "\n",
       "   internet_False  internet_True  \n",
       "0               0              1  \n",
       "1               1              0  \n",
       "2               1              0  \n",
       "3               0              1  \n",
       "4               0              1  \n",
       "\n",
       "[5 rows x 23 columns]"
      ]
     },
     "execution_count": 5,
     "metadata": {},
     "output_type": "execute_result"
    }
   ],
   "source": [
    "columns_to_transform = [ 'gender','caste','guardian','internet' ]\n",
    "data = pd.get_dummies( data,columns = columns_to_transform )\n",
    "data.head()\n"
   ]
  },
  {
   "cell_type": "code",
   "execution_count": 6,
   "metadata": {},
   "outputs": [],
   "source": [
    "mapping_dict={\"continue_drop\":{\"drop\":0,\"continue\":1}}"
   ]
  },
  {
   "cell_type": "code",
   "execution_count": 7,
   "metadata": {},
   "outputs": [],
   "source": [
    "data.replace(mapping_dict,inplace=True)"
   ]
  },
  {
   "cell_type": "code",
   "execution_count": 8,
   "metadata": {},
   "outputs": [],
   "source": [
    "data= data.drop('student_id', 1)"
   ]
  },
  {
   "cell_type": "code",
   "execution_count": 9,
   "metadata": {},
   "outputs": [],
   "source": [
    "#BALANCING DATA USING UNDER SAMPLING\n",
    "from sklearn.utils import resample"
   ]
  },
  {
   "cell_type": "code",
   "execution_count": 10,
   "metadata": {},
   "outputs": [],
   "source": [
    "data_maj = data[data.continue_drop==1]\n",
    "data_min = data[data.continue_drop==0]"
   ]
  },
  {
   "cell_type": "code",
   "execution_count": 11,
   "metadata": {},
   "outputs": [],
   "source": [
    "data_minority_upsampled = resample(data_min, \n",
    "                                 replace=True,     # sample with replacement\n",
    "                                 n_samples=16384,    # to match majority class\n",
    "                                 random_state=123) # reproducible results\n",
    " "
   ]
  },
  {
   "cell_type": "code",
   "execution_count": 12,
   "metadata": {},
   "outputs": [],
   "source": [
    "data_upsampled = pd.concat([data_maj, data_minority_upsampled])"
   ]
  },
  {
   "cell_type": "code",
   "execution_count": 13,
   "metadata": {},
   "outputs": [
    {
     "data": {
      "text/plain": [
       "1    16384\n",
       "0    16384\n",
       "Name: continue_drop, dtype: int64"
      ]
     },
     "execution_count": 13,
     "metadata": {},
     "output_type": "execute_result"
    }
   ],
   "source": [
    "data_upsampled.continue_drop.value_counts()"
   ]
  },
  {
   "cell_type": "code",
   "execution_count": 14,
   "metadata": {},
   "outputs": [
    {
     "data": {
      "image/png": "[encoded data removed]",
      "text/plain": [
       "<Figure size 432x288 with 1 Axes>"
      ]
     },
     "metadata": {},
     "output_type": "display_data"
    }
   ],
   "source": [
    "labels = ['CONTINUE', 'DROP']\n",
    "sizes = [data_upsampled['continue_drop'].value_counts()[0],\n",
    "         data_upsampled['continue_drop'].value_counts()[1]\n",
    "        ]\n",
    "fig1, ax1 = plt.subplots()\n",
    "ax1.pie(sizes, labels=labels, autopct='%1.1f%%', shadow=True)\n",
    "ax1.axis('equal')\n",
    "plt.title('Continue vs Dropout Histogram', fontsize=20)\n",
    "plt.show()"
   ]
  },
  {
   "cell_type": "code",
   "execution_count": null,
   "metadata": {},
   "outputs": [],
   "source": []
  }
 ],
 "metadata": {
  "kernelspec": {
   "display_name": "Python 3",
   "language": "python",
   "name": "python3"
  },
  "language_info": {
   "codemirror_mode": {
    "name": "ipython",
    "version": 3
   },
   "file_extension": ".py",
   "mimetype": "text/x-python",
   "name": "python",
   "nbconvert_exporter": "python",
   "pygments_lexer": "ipython3",
   "version": "3.7.3"
  }
 },
 "nbformat": 4,
 "nbformat_minor": 2
}
